{
 "cells": [
  {
   "cell_type": "markdown",
   "metadata": {},
   "source": [
    "## [作業目標]\n",
    "持續接觸有關機器學習的相關專案與最新技術"
   ]
  },
  {
   "cell_type": "markdown",
   "metadata": {},
   "source": [
    "## [作業重點]\n",
    "透過觀察頂尖公司的機器學習文章，來了解各公司是怎麼應用機器學習在實際的專案上"
   ]
  },
  {
   "cell_type": "markdown",
   "metadata": {},
   "source": [
    "## [作業]\n",
    "今天的作業希望大家能夠看看全球機器學習巨頭們在做的機器學習專案。以 google 為例，下圖是 Google 內部專案使用機器學習的數量，隨著時間進展，現在早已超過 2000 個專案在使用機器學習。"
   ]
  },
  {
   "cell_type": "markdown",
   "metadata": {},
   "source": [
    "![image](https://cdn-images-1.medium.com/max/800/1*U_L8qI8RmYS-MOBrYvXhSA.png)"
   ]
  },
  {
   "cell_type": "markdown",
   "metadata": {},
   "source": [
    "底下幫同學整理幾間知名企業的 blog 或機器學習網站 (自行搜尋也可)，這些網站都會整理最新的機器學習專案或者是技術文章，請挑選一篇文章閱讀並試著回答\n",
    "1. 專案的目標？ (要解決什麼問題）\n",
    "2. 使用的技術是？ (只需知道名稱即可，例如：使用 CNN 卷積神經網路做影像分類)\n",
    "3. 資料來源？ "
   ]
  },
  {
   "cell_type": "markdown",
   "metadata": {},
   "source": [
    "- [Google AI blog](https://ai.googleblog.com/)\n",
    "- [Facebook Research blog](https://research.fb.com/blog/)\n",
    "- [Apple machine learning journal](https://machinelearning.apple.com/)\n",
    "- [機器之心](https://www.jiqizhixin.com/)\n",
    "- [雷鋒網](http://www.leiphone.com/category/ai)"
   ]
  },
  {
   "cell_type": "markdown",
   "metadata": {},
   "source": [
    "### 1. 專案的目標？ (要解決什麼問題）\n",
    "滑冰在傳統的訓練過程中，教練更多是通過肉眼觀察和個人經驗對運動員進行指導，存在很大誤差。究其背後原因，運動訓練數據採集和分析工作的缺失一直是個明顯的制約因素。\n",
    "\n",
    "英特爾3DAT三維運動員追蹤技術便是希望可以精準、實時地採集分析運動員生物力學數據，幫助運動員高效訓練的工具，也是中國速滑隊備戰北京冬奧時，在訓練中使用的一項「神秘黑科技」。\n",
    "\n",
    "### 2. 使用的技術是？ (只需知道名稱即可，例如：使用 CNN 卷積神經網路做影像分類)\n",
    "第三代英特爾至強可擴展處理器提供的強勁算力，視頻數據讀取、預處理、缺失幀修復、運動數據生成等圖像處理可以更精準、高效，測量達像素級精度。3DAT 基於英特爾 ® OpenVINO™ 視覺工具套件進行開發，能實現精準、流暢、實時的視頻數據讀取、智能分析處理，人體三維運動信息提取等。英特爾至強可擴展處理器集成的英特爾深度學習加速技術，則能顯著提升深度學習推理和訓練的性能，讓模型的生成和應用更加高效。\n",
    "\n",
    "### 3. 資料來源？\n",
    "英特爾3DAT基於先進的計算機視覺和AI技術，能從訓練視頻源中提取速滑運動員的關鍵骨骼點信息、關鍵部位姿態、運動軌跡等進行三維重建。隨後，3DAT通過AI分析數據，生成運動員生物力學數據的參數集，這些參數集就是對運動員進行評估、指導調整的重要依據。\n"
   ]
  }
 ],
 "metadata": {
  "kernelspec": {
   "display_name": "Python 3",
   "language": "python",
   "name": "python3"
  },
  "language_info": {
   "codemirror_mode": {
    "name": "ipython",
    "version": 3
   },
   "file_extension": ".py",
   "mimetype": "text/x-python",
   "name": "python",
   "nbconvert_exporter": "python",
   "pygments_lexer": "ipython3",
   "version": "3.8.8"
  }
 },
 "nbformat": 4,
 "nbformat_minor": 2
}
